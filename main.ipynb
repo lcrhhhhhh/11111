{
 "cells": [
  {
   "cell_type": "code",
   "execution_count": null,
   "metadata": {},
   "outputs": [],
   "source": [
    "import os\n",
    "import re\n",
    "import jieba\n",
    "import math\n",
    "from nltk import FreqDist, word_tokenize\n",
    "from collections import Counter\n",
    "from tqdm import tqdm\n",
    "import matplotlib.pyplot as plt\n",
    "\n",
    "# 设置matplotlib支持中文显示\n",
    "plt.rcParams['font.sans-serif'] = ['SimHei'] \n",
    "plt.rcParams['axes.unicode_minus'] = False"
   ]
  },
  {
   "cell_type": "markdown",
   "metadata": {},
   "source": [
    "# 中文语料信息熵计算"
   ]
  },
  {
   "cell_type": "code",
   "execution_count": 5,
   "metadata": {},
   "outputs": [
    {
     "name": "stderr",
     "output_type": "stream",
     "text": [
      "100%|██████████| 13/13 [00:03<00:00,  3.85it/s]\n"
     ]
    },
    {
     "name": "stdout",
     "output_type": "stream",
     "text": [
      "length: 565215433\n"
     ]
    }
   ],
   "source": [
    "folder_path = 'data/wiki_zh'\n",
    "corpus_parts = []\n",
    "\n",
    "for childfolder in tqdm(os.listdir(folder_path)):\n",
    "    childfolder_path = os.path.join(folder_path, childfolder)\n",
    "    if os.path.isdir(childfolder_path):\n",
    "        for filename in os.listdir(childfolder_path):\n",
    "            file_path = os.path.join(childfolder_path, filename)\n",
    "            if os.path.isfile(file_path):\n",
    "                try:\n",
    "                    with open(file_path, 'r', encoding='utf-8') as file:\n",
    "                        corpus_parts.append(file.read())\n",
    "                except Exception as e:\n",
    "                    print(f\"Error reading {file_path}: {e}\")\n",
    "\n",
    "corpus = ''.join(corpus_parts)\n",
    "print(f\"length: {len(corpus)}\")"
   ]
  },
  {
   "cell_type": "code",
   "execution_count": null,
   "metadata": {},
   "outputs": [],
   "source": [
    "words = jieba.cut(corpus, cut_all=False)\n",
    "word_list = list(words)"
   ]
  },
  {
   "cell_type": "code",
   "execution_count": null,
   "metadata": {},
   "outputs": [
    {
     "name": "stdout",
     "output_type": "stream",
     "text": [
      "词级别平均信息熵: 9.854372492925405\n",
      "字级别的平均信息熵: 13.355834532880332\n"
     ]
    }
   ],
   "source": [
    "fdist = FreqDist(word_list)\n",
    "\n",
    "def calculate_entropy(fdist):\n",
    "    total = sum(fdist.values())\n",
    "    entropy = 0\n",
    "    for count in fdist.values():\n",
    "        prob = count / total\n",
    "        entropy -= prob * math.log2(prob)\n",
    "    return entropy\n",
    "\n",
    "word_entropy = calculate_entropy(fdist)\n",
    "print(f\"词级别平均信息熵: {word_entropy:}\")\n",
    "\n",
    "char_list = list(corpus)\n",
    "char_freq = Counter(char_list)\n",
    "total_chars = sum(char_freq.values())\n",
    "char_entropy = calculate_entropy(char_freq)\n",
    "print(f\"字级别的平均信息熵: {char_entropy:.3f}\")"
   ]
  },
  {
   "cell_type": "code",
   "execution_count": null,
   "metadata": {},
   "outputs": [],
   "source": [
    "import nltk\n",
    "import math\n",
    "import re\n",
    "from nltk.corpus import gutenberg\n",
    "from nltk.probability import FreqDist\n",
    "import matplotlib.pyplot as plt\n",
    "\n",
    "# 下载古腾堡语料库\n",
    "nltk.download('gutenberg')\n",
    "r1 = r'[^a-zA-Z\\s]'\n",
    "text = gutenberg.raw()\n",
    "#去掉所有的换行和多余的空格\n",
    "text = re.sub(r1, ' ', text) \n",
    "text = text.lower()\n",
    "text = text.replace('\\n', ' ')\n",
    "text = \" \".join(text.split())\n",
    "\n",
    "words = text.split()\n",
    "letters = [char for char in text if char.isalpha()]\n",
    "\n",
    "fwords_dict= FreqDist(words)\n",
    "fletters_dict= FreqDist(letters)"
   ]
  },
  {
   "cell_type": "code",
   "execution_count": null,
   "metadata": {},
   "outputs": [
    {
     "name": "stdout",
     "output_type": "stream",
     "text": [
      "字母级别的平均信息熵: 4.158618822194603\n",
      "单词级别的平均信息熵: 9.728047292817916\n"
     ]
    }
   ],
   "source": [
    "letter_entropy = calculate_entropy(fwords_dict)\n",
    "print(f\"字母级别的平均信息熵: {letter_entropy}\")\n",
    "\n",
    "word_entropy = calculate_entropy(fletters_dict)\n",
    "print(f\"单词级别的平均信息熵: {word_entropy}\")"
   ]
  },
  {
   "cell_type": "code",
   "execution_count": null,
   "metadata": {},
   "outputs": [],
   "source": []
  }
 ],
 "metadata": {
  "kernelspec": {
   "display_name": ".venv",
   "language": "python",
   "name": "python3"
  },
  "language_info": {
   "codemirror_mode": {
    "name": "ipython",
    "version": 3
   },
   "file_extension": ".py",
   "mimetype": "text/x-python",
   "name": "python",
   "nbconvert_exporter": "python",
   "pygments_lexer": "ipython3",
   "version": "3.10.1"
  }
 },
 "nbformat": 4,
 "nbformat_minor": 2
}
